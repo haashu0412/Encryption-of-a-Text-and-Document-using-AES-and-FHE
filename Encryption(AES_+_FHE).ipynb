{
  "nbformat": 4,
  "nbformat_minor": 0,
  "metadata": {
    "colab": {
      "provenance": []
    },
    "kernelspec": {
      "name": "python3",
      "display_name": "Python 3"
    },
    "language_info": {
      "name": "python"
    }
  },
  "cells": [
    {
      "cell_type": "code",
      "source": [
        "pip install pycryptodome tenseal"
      ],
      "metadata": {
        "colab": {
          "base_uri": "https://localhost:8080/"
        },
        "id": "fzudm3lQOEyL",
        "outputId": "3c5bde6e-9746-4f9f-e656-f6d60d8ac544"
      },
      "execution_count": null,
      "outputs": [
        {
          "output_type": "stream",
          "name": "stdout",
          "text": [
            "Requirement already satisfied: pycryptodome in /usr/local/lib/python3.11/dist-packages (3.21.0)\n",
            "Requirement already satisfied: tenseal in /usr/local/lib/python3.11/dist-packages (0.3.16)\n"
          ]
        }
      ]
    },
    {
      "cell_type": "code",
      "source": [
        "import json\n",
        "from Crypto.Random import get_random_bytes\n",
        "\n",
        "def generate_keys():\n",
        "    \"\"\"Generate AES-256 encryption keys and save them in a file.\"\"\"\n",
        "    keys = {\n",
        "        \"aes_key\": get_random_bytes(32).hex(),  # AES-256 Key\n",
        "        \"aes_iv\": get_random_bytes(16).hex(),\n",
        "    }\n",
        "\n",
        "    with open(\"keys.json\", \"w\") as key_file:\n",
        "        json.dump(keys, key_file)\n",
        "\n",
        "    print(\"🔑 AES Keys generated and saved in 'keys.json'\")\n",
        "\n",
        "generate_keys()\n"
      ],
      "metadata": {
        "colab": {
          "base_uri": "https://localhost:8080/"
        },
        "id": "zNTgmRSnWeZi",
        "outputId": "66376a65-b3f2-4bc7-83d1-adfde8003844"
      },
      "execution_count": null,
      "outputs": [
        {
          "output_type": "stream",
          "name": "stdout",
          "text": [
            "🔑 AES Keys generated and saved in 'keys.json'\n"
          ]
        }
      ]
    },
    {
      "cell_type": "code",
      "source": [
        "import json\n",
        "import base64\n",
        "from Crypto.Cipher import AES\n",
        "from Crypto.Random import get_random_bytes\n",
        "\n",
        "class AESEncryption:\n",
        "    def __init__(self):\n",
        "        \"\"\"Load or Generate AES-256 encryption keys.\"\"\"\n",
        "        try:\n",
        "            with open(\"keys.json\", \"r\") as key_file:\n",
        "                keys = json.load(key_file)\n",
        "            self.key = bytes.fromhex(keys[\"aes_key\"])\n",
        "            self.iv = bytes.fromhex(keys[\"aes_iv\"])\n",
        "        except FileNotFoundError:\n",
        "            # Generate keys if not found\n",
        "            self.key = get_random_bytes(32)  # AES-256 Key\n",
        "            self.iv = get_random_bytes(16)   # AES IV\n",
        "            keys = {\n",
        "                \"aes_key\": self.key.hex(),\n",
        "                \"aes_iv\": self.iv.hex(),\n",
        "            }\n",
        "            with open(\"keys.json\", \"w\") as key_file:\n",
        "                json.dump(keys, key_file)\n",
        "            print(\"🔑 New AES Keys generated and saved.\")\n",
        "\n",
        "    def pad(self, data):\n",
        "        \"\"\"PKCS7 padding for AES block size (16 bytes).\"\"\"\n",
        "        padding_length = AES.block_size - (len(data) % AES.block_size)\n",
        "        return data + bytes([padding_length] * padding_length)\n",
        "\n",
        "    def encrypt_file(self, input_file):\n",
        "        \"\"\"Encrypt a TXT or PDF file using AES-256.\"\"\"\n",
        "        with open(input_file, \"rb\") as file:\n",
        "            plaintext = file.read()\n",
        "\n",
        "        cipher = AES.new(self.key, AES.MODE_CBC, self.iv)\n",
        "        ciphertext = cipher.encrypt(self.pad(plaintext))\n",
        "\n",
        "        return base64.b64encode(self.iv + ciphertext).decode()\n",
        "\n",
        "\n",
        "aes_encryptor = AESEncryption()\n",
        "\n",
        "txt_file = \"text.txt\"\n",
        "pdf_file = \"Document.pdf\"\n",
        "\n",
        "aes_encrypted_txt = aes_encryptor.encrypt_file(txt_file)\n",
        "aes_encrypted_pdf = aes_encryptor.encrypt_file(pdf_file)\n",
        "\n",
        "combined_encrypted_data = aes_encrypted_txt + \"||\" + aes_encrypted_pdf\n",
        "\n",
        "with open(\"aes_encrypted_output.txt\", \"w\") as enc_file:\n",
        "    enc_file.write(combined_encrypted_data)\n",
        "\n",
        "print(\" AES Encryption Complete! Encrypted data saved in 'aes_encrypted_output.txt'\")\n"
      ],
      "metadata": {
        "colab": {
          "base_uri": "https://localhost:8080/"
        },
        "id": "YBPaLkJCWgFk",
        "outputId": "7c913a61-4b3a-4df4-8c2a-52e8d54a741d"
      },
      "execution_count": null,
      "outputs": [
        {
          "output_type": "stream",
          "name": "stdout",
          "text": [
            "✅ AES Encryption Complete! Encrypted data saved in 'aes_encrypted_output.txt'\n"
          ]
        }
      ]
    },
    {
      "cell_type": "code",
      "source": [
        "# read\n",
        "with open(\"aes_encrypted_output.txt\", \"r\") as file:\n",
        "    aes_encrypted_data = file.read()\n",
        "\n",
        "# Convertion of AES-encrypted Base64 text into numeric representation for FHE\n",
        "numeric_encoded_data = [ord(char) for char in aes_encrypted_data]\n"
      ],
      "metadata": {
        "id": "9FouO4hMYQQf"
      },
      "execution_count": null,
      "outputs": []
    },
    {
      "cell_type": "code",
      "source": [
        "import tenseal as ts\n",
        "\n",
        "class FHEEncryption:\n",
        "    def __init__(self):\n",
        "        \"\"\"Initialize Fully Homomorphic Encryption and Save Context.\"\"\"\n",
        "        self.context = ts.context(\n",
        "            ts.SCHEME_TYPE.BFV,\n",
        "            poly_modulus_degree=16384,\n",
        "            plain_modulus=786433,\n",
        "            coeff_mod_bit_sizes=[60, 40, 40, 60, 60]\n",
        "        )\n",
        "        self.context.generate_galois_keys()\n",
        "        self.context.generate_relin_keys()\n",
        "\n",
        "        with open(\"fhe_context.bin\", \"wb\") as ctx_file:\n",
        "            ctx_file.write(self.context.serialize(save_secret_key=True))\n",
        "\n",
        "        print(\"🔑 FHE Context (with Secret Key) Saved!\")\n",
        "\n",
        "    def encrypt_fhe_chunk(self, chunk):\n",
        "        \"\"\"Encrypt a single chunk using Fully Homomorphic Encryption (FHE).\"\"\"\n",
        "        encrypted_fhe_data = ts.bfv_vector(self.context, chunk)\n",
        "        return encrypted_fhe_data.serialize()\n",
        "\n",
        "    def encrypt_fhe_in_chunks(self, data, chunk_size=3000):\n",
        "        \"\"\"Encrypt AES-encrypted data in chunks to fit into FHE ciphertext.\"\"\"\n",
        "        chunks = [data[i:i + chunk_size] for i in range(0, len(data), chunk_size)]\n",
        "        encrypted_chunks = [self.encrypt_fhe_chunk(chunk) for chunk in chunks]\n",
        "        return encrypted_chunks\n",
        "\n",
        "fhe_encryptor = FHEEncryption()\n",
        "\n",
        "fhe_encrypted_chunks = fhe_encryptor.encrypt_fhe_in_chunks(numeric_encoded_data)\n",
        "\n",
        "with open(\"final_encrypted_output.fhe\", \"wb\") as fhe_file:\n",
        "    for chunk in fhe_encrypted_chunks:\n",
        "        fhe_file.write(len(chunk).to_bytes(4, 'big'))\n",
        "        fhe_file.write(chunk)\n",
        "\n",
        "print(\" FHE Encryption Complete! Output saved in 'final_encrypted_output.fhe'\")\n"
      ],
      "metadata": {
        "colab": {
          "base_uri": "https://localhost:8080/"
        },
        "id": "Ox2PxAZiYZim",
        "outputId": "c13365e3-5ed7-4a88-bee1-409b31749035"
      },
      "execution_count": null,
      "outputs": [
        {
          "output_type": "stream",
          "name": "stdout",
          "text": [
            "🔑 FHE Context (with Secret Key) Saved!\n",
            "✅ FHE Encryption Complete! Output saved in 'final_encrypted_output.fhe'\n"
          ]
        }
      ]
    },
    {
      "cell_type": "markdown",
      "source": [
        "DECRYPTION"
      ],
      "metadata": {
        "id": "pCKv5CsWLRkl"
      }
    },
    {
      "cell_type": "code",
      "source": [
        "import tenseal as ts\n",
        "\n",
        "class FHEDecryption:\n",
        "    def __init__(self):\n",
        "        \"\"\"Load Fully Homomorphic Encryption Context (with Secret Key).\"\"\"\n",
        "        with open(\"fhe_context.bin\", \"rb\") as ctx_file:\n",
        "            self.context = ts.context_from(ctx_file.read())\n",
        "\n",
        "    def decrypt_fhe_chunk(self, encrypted_chunk):\n",
        "        \"\"\"Decrypt a single chunk using Fully Homomorphic Encryption (FHE).\"\"\"\n",
        "        encrypted_vector = ts.bfv_vector_from(self.context, encrypted_chunk)\n",
        "        return encrypted_vector.decrypt()  #  secret key\n",
        "\n",
        "    def decrypt_fhe_chunks(self, encrypted_file):\n",
        "        \"\"\"Decrypt all chunks stored in a file and reconstruct original text.\"\"\"\n",
        "        decrypted_data = []\n",
        "        with open(encrypted_file, \"rb\") as file:\n",
        "            while True:\n",
        "                length_bytes = file.read(4)\n",
        "                if not length_bytes:\n",
        "                    break\n",
        "                chunk_length = int.from_bytes(length_bytes, 'big')\n",
        "                encrypted_chunk = file.read(chunk_length)\n",
        "                decrypted_data.extend(self.decrypt_fhe_chunk(encrypted_chunk))\n",
        "        return \"\".join(chr(num) for num in decrypted_data)\n",
        "\n",
        "fhe_decryptor = FHEDecryption()\n",
        "\n",
        "decrypted_aes_base64 = fhe_decryptor.decrypt_fhe_chunks(\"final_encrypted_output.fhe\")\n",
        "\n",
        "with open(\"decrypted_aes_output.txt\", \"w\") as dec_file:\n",
        "    dec_file.write(decrypted_aes_base64)\n",
        "\n",
        "print(\" FHE Decryption Complete! AES-encrypted data restored in 'decrypted_aes_output.txt'. Ready for AES decryption.\")\n"
      ],
      "metadata": {
        "colab": {
          "base_uri": "https://localhost:8080/"
        },
        "id": "uxaLlu1QYxwn",
        "outputId": "e0a96612-d2ea-4829-8855-ae2a695785c1"
      },
      "execution_count": null,
      "outputs": [
        {
          "output_type": "stream",
          "name": "stdout",
          "text": [
            "✅ FHE Decryption Complete! AES-encrypted data restored in 'decrypted_aes_output.txt'. Ready for AES decryption.\n"
          ]
        }
      ]
    },
    {
      "cell_type": "code",
      "source": [
        "import json\n",
        "import base64\n",
        "from Crypto.Cipher import AES\n",
        "\n",
        "class AESEncryption:\n",
        "    def __init__(self):\n",
        "        \"\"\"Load AES-256 decryption keys from file.\"\"\"\n",
        "        with open(\"keys.json\", \"r\") as key_file:\n",
        "            keys = json.load(key_file)\n",
        "\n",
        "        self.key = bytes.fromhex(keys[\"aes_key\"])\n",
        "        self.iv = bytes.fromhex(keys[\"aes_iv\"])\n",
        "\n",
        "    def unpad(self, data):\n",
        "        \"\"\"Remove PKCS7 padding safely.\"\"\"\n",
        "        padding_length = data[-1]\n",
        "        if padding_length < 1 or padding_length > AES.block_size:\n",
        "            return data\n",
        "        return data[:-padding_length]\n",
        "\n",
        "    def decrypt_base64(self, encrypted_base64):\n",
        "        \"\"\"Decrypt AES-256 Base64 encoded data.\"\"\"\n",
        "        encrypted_data = base64.b64decode(encrypted_base64)\n",
        "        iv = encrypted_data[:16]\n",
        "        ciphertext = encrypted_data[16:]  # Extract\n",
        "\n",
        "        if len(ciphertext) % AES.block_size != 0:\n",
        "            raise ValueError(\"⚠️ AES data is corrupted or improperly padded!\")\n",
        "\n",
        "        cipher = AES.new(self.key, AES.MODE_CBC, iv)\n",
        "        decrypted_data = self.unpad(cipher.decrypt(ciphertext))\n",
        "\n",
        "        return decrypted_data\n",
        "\n",
        "aes_decryptor = AESEncryption()\n"
      ],
      "metadata": {
        "id": "lb6PwWkLZGTM"
      },
      "execution_count": null,
      "outputs": []
    },
    {
      "cell_type": "code",
      "source": [
        "with open(\"decrypted_aes_output.txt\", \"r\") as file:\n",
        "    decrypted_aes_base64 = file.read()\n",
        "\n",
        "if len(decrypted_aes_base64) % 16 != 0:\n",
        "    print(\"⚠️ Warning: AES data might be incorrectly retrieved from FHE!\")\n",
        "\n",
        "#  Split\n",
        "aes_encrypted_txt, aes_encrypted_pdf = decrypted_aes_base64.split(\"||\")\n",
        "\n",
        "# Decrypt the original TXT file\n",
        "original_txt_data = aes_decryptor.decrypt_base64(aes_encrypted_txt)\n",
        "with open(\"decrypted_document.txt\", \"wb\") as txt_file:\n",
        "    txt_file.write(original_txt_data)\n",
        "\n",
        "# Decrypt the original PDF file\n",
        "original_pdf_data = aes_decryptor.decrypt_base64(aes_encrypted_pdf)\n",
        "with open(\"decrypted_certificate.pdf\", \"wb\") as pdf_file:\n",
        "    pdf_file.write(original_pdf_data)\n",
        "\n",
        "print(\"Decryption Complete! Original files restored:\")\n",
        "print(\"Decrypted TXT saved as: decrypted_document.txt\")\n",
        "print(\"Decrypted PDF saved as: decrypted_certificate.pdf\")\n"
      ],
      "metadata": {
        "colab": {
          "base_uri": "https://localhost:8080/"
        },
        "id": "PanLVrOlZLFM",
        "outputId": "b88eae93-370b-483c-ade6-10002fea0f94"
      },
      "execution_count": null,
      "outputs": [
        {
          "output_type": "stream",
          "name": "stdout",
          "text": [
            "⚠️ Warning: AES data might be incorrectly retrieved from FHE!\n",
            "✅ Decryption Complete! Original files restored:\n",
            "📄 Decrypted TXT saved as: decrypted_document.txt\n",
            "📜 Decrypted PDF saved as: decrypted_certificate.pdf\n"
          ]
        }
      ]
    }
  ]
}